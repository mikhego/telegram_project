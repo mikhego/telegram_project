{
 "cells": [
  {
   "cell_type": "code",
   "execution_count": 7,
   "metadata": {},
   "outputs": [],
   "source": [
    "import pandas as pd\n",
    "import os\n",
    "import sys\n",
    "\n",
    "module_path = os.path.abspath(os.path.join('..'))\n",
    "if module_path not in sys.path:\n",
    "    sys.path.append(module_path)\n",
    "\n",
    "MODULE_PATH = module_path"
   ]
  },
  {
   "cell_type": "code",
   "execution_count": 10,
   "metadata": {},
   "outputs": [
    {
     "data": {
      "text/html": [
       "<div>\n",
       "<style scoped>\n",
       "    .dataframe tbody tr th:only-of-type {\n",
       "        vertical-align: middle;\n",
       "    }\n",
       "\n",
       "    .dataframe tbody tr th {\n",
       "        vertical-align: top;\n",
       "    }\n",
       "\n",
       "    .dataframe thead th {\n",
       "        text-align: right;\n",
       "    }\n",
       "</style>\n",
       "<table border=\"1\" class=\"dataframe\">\n",
       "  <thead>\n",
       "    <tr style=\"text-align: right;\">\n",
       "      <th></th>\n",
       "      <th>link</th>\n",
       "      <th>name</th>\n",
       "      <th>id</th>\n",
       "      <th>platform</th>\n",
       "    </tr>\n",
       "  </thead>\n",
       "  <tbody>\n",
       "    <tr>\n",
       "      <th>0</th>\n",
       "      <td>http://www.world-art.ru/games/games.php?id=26352</td>\n",
       "      <td>The Witcher 3: Wild Hunt (2015 г.)</td>\n",
       "      <td>26352</td>\n",
       "      <td>PC</td>\n",
       "    </tr>\n",
       "    <tr>\n",
       "      <th>1</th>\n",
       "      <td>http://www.world-art.ru/games/games.php?id=18698</td>\n",
       "      <td>Steins;Gate (2010 г.)</td>\n",
       "      <td>18698</td>\n",
       "      <td>PC</td>\n",
       "    </tr>\n",
       "    <tr>\n",
       "      <th>2</th>\n",
       "      <td>http://www.world-art.ru/games/games.php?id=34878</td>\n",
       "      <td>The Witcher 3: Wild Hunt - Game of the Year Ed...</td>\n",
       "      <td>34878</td>\n",
       "      <td>PC</td>\n",
       "    </tr>\n",
       "    <tr>\n",
       "      <th>3</th>\n",
       "      <td>http://www.world-art.ru/games/games.php?id=19239</td>\n",
       "      <td>Dragon Age: Origins - Ultimate Edition (2010 г.)</td>\n",
       "      <td>19239</td>\n",
       "      <td>PC</td>\n",
       "    </tr>\n",
       "    <tr>\n",
       "      <th>4</th>\n",
       "      <td>http://www.world-art.ru/games/games.php?id=10809</td>\n",
       "      <td>Portal 2 (2011 г.)</td>\n",
       "      <td>10809</td>\n",
       "      <td>PC</td>\n",
       "    </tr>\n",
       "    <tr>\n",
       "      <th>...</th>\n",
       "      <td>...</td>\n",
       "      <td>...</td>\n",
       "      <td>...</td>\n",
       "      <td>...</td>\n",
       "    </tr>\n",
       "    <tr>\n",
       "      <th>29869</th>\n",
       "      <td>http://www.world-art.ru/games/games.php?id=50202</td>\n",
       "      <td>WW2: Bunker Simulator (2022 г.)</td>\n",
       "      <td>50202</td>\n",
       "      <td>PS4</td>\n",
       "    </tr>\n",
       "    <tr>\n",
       "      <th>29870</th>\n",
       "      <td>http://www.world-art.ru/games/games.php?id=50206</td>\n",
       "      <td>Asterigos: Curse of the Stars (2022 г.)</td>\n",
       "      <td>50206</td>\n",
       "      <td>PS4</td>\n",
       "    </tr>\n",
       "    <tr>\n",
       "      <th>29871</th>\n",
       "      <td>http://www.world-art.ru/games/games.php?id=50207</td>\n",
       "      <td>Asterigos: Curse of the Stars (2022 г.)</td>\n",
       "      <td>50207</td>\n",
       "      <td>PS5</td>\n",
       "    </tr>\n",
       "    <tr>\n",
       "      <th>29872</th>\n",
       "      <td>http://www.world-art.ru/games/games.php?id=50208</td>\n",
       "      <td>Asterigos: Curse of the Stars (2022 г.)</td>\n",
       "      <td>50208</td>\n",
       "      <td>Xbox_One</td>\n",
       "    </tr>\n",
       "    <tr>\n",
       "      <th>29873</th>\n",
       "      <td>http://www.world-art.ru/games/games.php?id=50209</td>\n",
       "      <td>Asterigos: Curse of the Stars (2022 г.)</td>\n",
       "      <td>50209</td>\n",
       "      <td>Xbox_Series</td>\n",
       "    </tr>\n",
       "  </tbody>\n",
       "</table>\n",
       "<p>29874 rows × 4 columns</p>\n",
       "</div>"
      ],
      "text/plain": [
       "                                                   link  \\\n",
       "0      http://www.world-art.ru/games/games.php?id=26352   \n",
       "1      http://www.world-art.ru/games/games.php?id=18698   \n",
       "2      http://www.world-art.ru/games/games.php?id=34878   \n",
       "3      http://www.world-art.ru/games/games.php?id=19239   \n",
       "4      http://www.world-art.ru/games/games.php?id=10809   \n",
       "...                                                 ...   \n",
       "29869  http://www.world-art.ru/games/games.php?id=50202   \n",
       "29870  http://www.world-art.ru/games/games.php?id=50206   \n",
       "29871  http://www.world-art.ru/games/games.php?id=50207   \n",
       "29872  http://www.world-art.ru/games/games.php?id=50208   \n",
       "29873  http://www.world-art.ru/games/games.php?id=50209   \n",
       "\n",
       "                                                    name     id     platform  \n",
       "0                     The Witcher 3: Wild Hunt (2015 г.)  26352           PC  \n",
       "1                                  Steins;Gate (2010 г.)  18698           PC  \n",
       "2      The Witcher 3: Wild Hunt - Game of the Year Ed...  34878           PC  \n",
       "3       Dragon Age: Origins - Ultimate Edition (2010 г.)  19239           PC  \n",
       "4                                     Portal 2 (2011 г.)  10809           PC  \n",
       "...                                                  ...    ...          ...  \n",
       "29869                    WW2: Bunker Simulator (2022 г.)  50202          PS4  \n",
       "29870            Asterigos: Curse of the Stars (2022 г.)  50206          PS4  \n",
       "29871            Asterigos: Curse of the Stars (2022 г.)  50207          PS5  \n",
       "29872            Asterigos: Curse of the Stars (2022 г.)  50208     Xbox_One  \n",
       "29873            Asterigos: Curse of the Stars (2022 г.)  50209  Xbox_Series  \n",
       "\n",
       "[29874 rows x 4 columns]"
      ]
     },
     "execution_count": 10,
     "metadata": {},
     "output_type": "execute_result"
    }
   ],
   "source": [
    "data = pd.read_csv(MODULE_PATH + '/data/raw/data_games_list.csv')\n",
    "data"
   ]
  },
  {
   "cell_type": "code",
   "execution_count": 11,
   "metadata": {},
   "outputs": [
    {
     "data": {
      "text/plain": [
       "13764"
      ]
     },
     "execution_count": 11,
     "metadata": {},
     "output_type": "execute_result"
    }
   ],
   "source": [
    "count_pc = data[data['platform'] == 'PC']['link'].nunique()\n",
    "count_pc"
   ]
  },
  {
   "cell_type": "code",
   "execution_count": 12,
   "metadata": {},
   "outputs": [
    {
     "data": {
      "text/plain": [
       "9540"
      ]
     },
     "execution_count": 12,
     "metadata": {},
     "output_type": "execute_result"
    }
   ],
   "source": [
    "count_ps = data[data['platform'].str.contains('PS')]['link'].nunique()\n",
    "count_ps"
   ]
  },
  {
   "cell_type": "code",
   "execution_count": 13,
   "metadata": {},
   "outputs": [
    {
     "data": {
      "text/plain": [
       "4500"
      ]
     },
     "execution_count": 13,
     "metadata": {},
     "output_type": "execute_result"
    }
   ],
   "source": [
    "count_xbox = data[data['platform'].str.contains('Xbox')]['link'].nunique()\n",
    "count_xbox"
   ]
  },
  {
   "cell_type": "code",
   "execution_count": 14,
   "metadata": {},
   "outputs": [
    {
     "data": {
      "text/plain": [
       "2070"
      ]
     },
     "execution_count": 14,
     "metadata": {},
     "output_type": "execute_result"
    }
   ],
   "source": [
    "count_switch = data[data['platform'].str.contains('Switch')]['link'].nunique()\n",
    "count_switch"
   ]
  },
  {
   "cell_type": "code",
   "execution_count": null,
   "metadata": {},
   "outputs": [],
   "source": []
  }
 ],
 "metadata": {
  "kernelspec": {
   "display_name": "Python 3.10.6 ('.venv': poetry)",
   "language": "python",
   "name": "python3"
  },
  "language_info": {
   "codemirror_mode": {
    "name": "ipython",
    "version": 3
   },
   "file_extension": ".py",
   "mimetype": "text/x-python",
   "name": "python",
   "nbconvert_exporter": "python",
   "pygments_lexer": "ipython3",
   "version": "3.10.6"
  },
  "orig_nbformat": 4,
  "vscode": {
   "interpreter": {
    "hash": "e4fb73941af19e00b624f1f9d4b40c4fafb9c77e09725d21904814f4f6c36b63"
   }
  }
 },
 "nbformat": 4,
 "nbformat_minor": 2
}
